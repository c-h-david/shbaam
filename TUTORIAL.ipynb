{
 "cells": [
  {
   "cell_type": "markdown",
   "metadata": {},
   "source": [
    "# SHBAAM Tutorial\n",
    "## 1. Specify your NASA EarthData Credentials\n",
    "This tutorial uses data that are freely available from NASA's EarthData. ",
    "If you have not done so already, you need to create an account at ",
    "https://urs.earthdata.nasa.gov/ in order to access the data used in this ",
    "tutorial. Once the account is created, your information has to be ", 
    "included in this tutorial.  To do so, we will include them in a file ",
    "that is called `.netrc` and that is located in the home directory `~/`. ",
    "In the cell below, please replace `YourLogin` and `YourPassword` by your ",
    "own NASA EarthData credentials."
   ]
  },
  {
   "cell_type": "code",
   "execution_count": null,
   "metadata": {},
   "outputs": [],
   "source": [
    "%%writefile ~/.netrc\n",
    "machine urs.earthdata.nasa.gov login YourLogin password YourPassword"
   ]
  },
  {
   "cell_type": "markdown",
   "metadata": {},
   "source": [
    "Likewise, this tutorial uses data that are freely available from PO.DAAC, "
    "one of NASA's Distributed Active Archive Centers. You do not need to "
    "create a new account as the EarthData credentials give you access to "
    "PO.DAAC, but you'll need to know your Access API Credentials in order to "
    "automatically download data. To obtain them, go to "
    "https://podaac-tools.jpl.nasa.gov/drive/ and click Access API credentials."
    "In the cell below, please replace `YourLogin` and `YourPassword` by your ",
    "own PO.DAAC Access API credentials."
   ]
  },
  {
   "cell_type": "code",
   "execution_count": null,
   "metadata": {},
   "outputs": [],
   "source": [
    "%%writefile ~/.netrc\n",
    "machine podaac-tools.jpl.nasa.gov login YourLogin password YourPassword"
   ]
  },
  {
   "cell_type": "markdown",
   "metadata": {},
   "source": [
    "Now let's check that the `~/.netrc` file now has the above information."
   ]
  },
  {
   "cell_type": "code",
   "execution_count": null,
   "metadata": {},
   "outputs": [],
   "source": [
    "!cat ~/.netrc"
   ]
  },
  {
   "cell_type": "markdown",
   "metadata": {},
   "source": [
    "You should now be all set to download data."
   ]
  },
  {
   "cell_type": "markdown",
   "metadata": {},
   "source": [
    "## 2. Download input data and run existing tests\n",
    "Programs already exist in SHBAAM that allow you to complete these two ",
    "tasks. First, you need to navigate to the `tst` directory:"
   ]
  },
  {
   "cell_type": "code",
   "execution_count": null,
   "metadata": {},
   "outputs": [],
   "source": [
    "%cd tst/"
   ]
  },
  {
   "cell_type": "markdown",
   "metadata": {},
   "source": [
    "Then download all data by executing the program called ", 
    "`tst_pub_dwnl_David_etal_201x_SER.sh`. Note that this may take 10-20 min ",
    "depending on your internet connection."
   ]
  },
  {
   "cell_type": "code",
   "execution_count": null,
   "metadata": {},
   "outputs": [],
   "source": [
    "!./tst_pub_dwnl_David_etal_201x_SER.sh"
   ]
  },
  {
   "cell_type": "markdown",
   "metadata": {},
   "source": [
    "Finally, run all existing tests by executing ",
    "`tst_pub_repr_David_etal_201x_SER.sh`. Note that this may take 10-20 min ",
    "depending on your computer."
   ]
  },
  {
   "cell_type": "code",
   "execution_count": null,
   "metadata": {},
   "outputs": [],
   "source": [
    "!./tst_pub_repr_David_etal_201x_SER.sh"
   ]
  },
  {
   "cell_type": "markdown",
   "metadata": {},
   "source": [
    "If the message `Passed all tests!!!` is displayed, then everything is ",
    "working as expected!"
   ]
  },
  {
   "cell_type": "markdown",
   "metadata": {},
   "source": [
    "## 3. Learn how to use the various functions of SHBAAM\n",
    "*This portion is currently under development.*"
   ]
  },
  {
   "cell_type": "code",
   "execution_count": null,
   "metadata": {},
   "outputs": [],
   "source": []
  }
 ],
 "metadata": {
  "kernelspec": {
   "display_name": "Python 2",
   "language": "python",
   "name": "python2"
  },
  "language_info": {
   "codemirror_mode": {
    "name": "ipython",
    "version": 2
   },
   "file_extension": ".py",
   "mimetype": "text/x-python",
   "name": "python",
   "nbconvert_exporter": "python",
   "pygments_lexer": "ipython2",
   "version": "2.7.13"
  }
 },
 "nbformat": 4,
 "nbformat_minor": 2
}
